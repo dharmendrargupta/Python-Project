{
 "cells": [
  {
   "cell_type": "code",
   "execution_count": 12,
   "id": "0421df44-92a9-4092-bc23-06232d29fbcf",
   "metadata": {},
   "outputs": [
    {
     "name": "stdout",
     "output_type": "stream",
     "text": [
      "Welcome to My Restaurant\n",
      "Pizza: Rs80\n",
      "Pasta: Rs50\n",
      "Burger: Rs60\n",
      "Salad: Rs60\n",
      "Coffee: Rs80\n"
     ]
    },
    {
     "name": "stdin",
     "output_type": "stream",
     "text": [
      "Inter the name of item you want to order=  pasta\n"
     ]
    },
    {
     "name": "stdout",
     "output_type": "stream",
     "text": [
      "Your item pasta has been added to your order\n"
     ]
    },
    {
     "name": "stdin",
     "output_type": "stream",
     "text": [
      "Do you want to add another item ? (Yes/No) no\n"
     ]
    },
    {
     "name": "stdout",
     "output_type": "stream",
     "text": [
      "The total amount of item to pay is 50\n"
     ]
    }
   ],
   "source": [
    "menu={'pizza':80,\n",
    "     'pasta':50,\n",
    "     'burger':60,\n",
    "     'salad':60,\n",
    "     'coffee':80,\n",
    "     }\n",
    "\n",
    "print(\"Welcome to My Restaurant\")\n",
    "print(\"Pizza: Rs80\\nPasta: Rs50\\nBurger: Rs60\\nSalad: Rs60\\nCoffee: Rs80\")\n",
    "\n",
    "#Variavle \n",
    "order_total=0\n",
    "\n",
    "#Variavle(Input)\n",
    "item_1= input(\"Inter the name of item you want to order= \")\n",
    "\n",
    "\n",
    "#user input\n",
    "if item_1 in menu:\n",
    "    order_total += menu[item_1]\n",
    "    print(f\"Your item {item_1} has been added to your order\")  #f formated string\n",
    "\n",
    "else:\n",
    "    print(f\"Order item {item_1} is not available yet!\")\n",
    "\n",
    "# Ask the user another order\n",
    "another_order= input(\"Do you want to add another item ? (Yes/No)\")\n",
    "if another_order == \"Yes\":\n",
    "    item_2 = input(\"Enter the name of second item= \")\n",
    "    if item_2 in menu:\n",
    "        order_total+= menu[item_2]\n",
    "        print(f\"Item {item_2} has been added to order\")\n",
    "    else:\n",
    "        print(f\"Order item {item_2} is not available!\")\n",
    "\n",
    "print(f\"The total amount of item to pay is {order_total}\")\n",
    "\n",
    "\n",
    "\n"
   ]
  },
  {
   "cell_type": "code",
   "execution_count": null,
   "id": "8d3338df-3ef7-49fd-af97-48da4e199279",
   "metadata": {},
   "outputs": [],
   "source": []
  }
 ],
 "metadata": {
  "kernelspec": {
   "display_name": "Python 3 (ipykernel)",
   "language": "python",
   "name": "python3"
  },
  "language_info": {
   "codemirror_mode": {
    "name": "ipython",
    "version": 3
   },
   "file_extension": ".py",
   "mimetype": "text/x-python",
   "name": "python",
   "nbconvert_exporter": "python",
   "pygments_lexer": "ipython3",
   "version": "3.12.2"
  }
 },
 "nbformat": 4,
 "nbformat_minor": 5
}
